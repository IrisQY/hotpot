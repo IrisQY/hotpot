{
 "cells": [
  {
   "cell_type": "code",
   "execution_count": 2,
   "metadata": {},
   "outputs": [],
   "source": [
    "import pandas as pd\n",
    "import pickle"
   ]
  },
  {
   "cell_type": "code",
   "execution_count": 3,
   "metadata": {},
   "outputs": [
    {
     "name": "stdout",
     "output_type": "stream",
     "text": [
      "9044\n"
     ]
    }
   ],
   "source": [
    "train_full = pd.read_json(\"hotpot_train_v1.1.json\")\n",
    "size = int(0.1*train_full.shape[0])\n",
    "print(size)\n",
    "toy_train_small = train_full.sample(n=size, replace = False, random_state=1)\n",
    "toy_train_small = toy_train_small[['_id', 'answer', 'question', 'supporting_facts', 'context','type','level']]\n",
    "toy_train_small.to_json('toy_train_small.json', orient = 'records')"
   ]
  },
  {
   "cell_type": "code",
   "execution_count": 4,
   "metadata": {},
   "outputs": [
    {
     "name": "stdout",
     "output_type": "stream",
     "text": [
      "740\n"
     ]
    }
   ],
   "source": [
    "dev_full = pd.read_json(\"hotpot_dev_distractor_v1.json\")\n",
    "size = int(0.1*dev_full.shape[0])\n",
    "print(size)\n",
    "toy_dev_small = dev_full.sample(n=size, replace = False, random_state=1)\n",
    "toy_dev_small = toy_dev_small[['_id', 'answer', 'question', 'supporting_facts', 'context','type','level']]\n",
    "toy_dev_small.to_json('toy_dev_small.json', orient = 'records')"
   ]
  },
  {
   "cell_type": "code",
   "execution_count": 2,
   "metadata": {},
   "outputs": [
    {
     "name": "stdout",
     "output_type": "stream",
     "text": [
      "45223\n"
     ]
    }
   ],
   "source": [
    "train_full = pd.read_json(\"hotpot_train_v1.1.json\")\n",
    "size = int(0.5*train_full.shape[0])\n",
    "print(size)\n",
    "toy_train = train_full.sample(n=size, replace = False, random_state=1)\n",
    "toy_train = toy_train[['_id', 'answer', 'question', 'supporting_facts', 'context','type','level']]\n",
    "toy_train.to_json('toy_train.json', orient = 'records')"
   ]
  },
  {
   "cell_type": "code",
   "execution_count": 3,
   "metadata": {},
   "outputs": [
    {
     "name": "stdout",
     "output_type": "stream",
     "text": [
      "3702\n"
     ]
    }
   ],
   "source": [
    "dev_full = pd.read_json(\"hotpot_dev_distractor_v1.json\")\n",
    "size = int(0.5*dev_full.shape[0])\n",
    "print(size)\n",
    "toy_dev = dev_full.sample(n=size, replace = False, random_state=1)\n",
    "toy_dev = toy_dev[['_id', 'answer', 'question', 'supporting_facts', 'context','type','level']]\n",
    "toy_dev.to_json('toy_dev.json', orient = 'records')"
   ]
  },
  {
   "cell_type": "code",
   "execution_count": 4,
   "metadata": {},
   "outputs": [
    {
     "name": "stdout",
     "output_type": "stream",
     "text": [
      "3702\n"
     ]
    }
   ],
   "source": [
    "dev_wiki = pd.read_json(\"hotpot_dev_fullwiki_v1.json\")\n",
    "size = int(0.5*dev_wiki.shape[0])\n",
    "print(size)\n",
    "toy_dev_wiki = dev_wiki.sample(n=size, replace = False, random_state=1)\n",
    "toy_dev_wiki = toy_dev_wiki[['_id', 'answer', 'question', 'supporting_facts', 'context','type','level']]\n",
    "toy_dev_wiki.to_json('toy_dev_wiki.json', orient = 'records')"
   ]
  },
  {
   "cell_type": "code",
   "execution_count": 19,
   "metadata": {},
   "outputs": [],
   "source": [
    "with open('dev_record.pkl', 'rb') as f:\n",
    "    data = pickle.load(f)"
   ]
  },
  {
   "cell_type": "code",
   "execution_count": 20,
   "metadata": {},
   "outputs": [
    {
     "data": {
      "text/plain": [
       "119547037146038801333356"
      ]
     },
     "execution_count": 20,
     "metadata": {},
     "output_type": "execute_result"
    }
   ],
   "source": [
    "data"
   ]
  },
  {
   "cell_type": "code",
   "execution_count": null,
   "metadata": {},
   "outputs": [],
   "source": []
  }
 ],
 "metadata": {
  "kernelspec": {
   "display_name": "Python 3",
   "language": "python",
   "name": "python3"
  },
  "language_info": {
   "codemirror_mode": {
    "name": "ipython",
    "version": 3
   },
   "file_extension": ".py",
   "mimetype": "text/x-python",
   "name": "python",
   "nbconvert_exporter": "python",
   "pygments_lexer": "ipython3",
   "version": "3.6.8"
  },
  "toc": {
   "base_numbering": 1,
   "nav_menu": {},
   "number_sections": true,
   "sideBar": true,
   "skip_h1_title": false,
   "title_cell": "Table of Contents",
   "title_sidebar": "Contents",
   "toc_cell": false,
   "toc_position": {},
   "toc_section_display": true,
   "toc_window_display": false
  }
 },
 "nbformat": 4,
 "nbformat_minor": 2
}
